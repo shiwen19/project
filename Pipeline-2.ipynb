{
  "nbformat": 4,
  "nbformat_minor": 0,
  "metadata": {
    "colab": {
      "provenance": [],
      "collapsed_sections": [
        "EkDBAWfp9Z4-",
        "z5mDuzlK94qA"
      ]
    },
    "kernelspec": {
      "name": "python3",
      "display_name": "Python 3"
    },
    "language_info": {
      "name": "python"
    }
  },
  "cells": [
    {
      "cell_type": "markdown",
      "source": [
        "# **Project Overview:**\n",
        "\n",
        "---\n",
        "\n",
        "This project aims to build an ETL pipeline using Python within Google Colab for processing a real estate loan data from FRED. After transforming the processed data, it will be loaded into BigQuery for further analysis."
      ],
      "metadata": {
        "id": "Pw2G3Tkr5OOS"
      }
    },
    {
      "cell_type": "code",
      "source": [
        "# Import all the necessary libraries\n",
        "import pandas as pd\n",
        "import requests"
      ],
      "metadata": {
        "id": "oSzL-xKQ5HRd"
      },
      "execution_count": null,
      "outputs": []
    },
    {
      "cell_type": "markdown",
      "source": [
        "# Build the pipeline\n",
        "\n",
        "---\n",
        "\n"
      ],
      "metadata": {
        "id": "EkDBAWfp9Z4-"
      }
    },
    {
      "cell_type": "markdown",
      "source": [
        "**1.\tData Ingestion:**"
      ],
      "metadata": {
        "id": "oJ5paPTd7NRR"
      }
    },
    {
      "cell_type": "code",
      "source": [
        "# Constants\n",
        "# Reference: https://fred.stlouisfed.org/docs/api/fred/series_observations.html\n",
        "Base_url = 'https://api.stlouisfed.org/fred/series/observations'"
      ],
      "metadata": {
        "id": "2ChYUX9pMoGV"
      },
      "execution_count": null,
      "outputs": []
    },
    {
      "cell_type": "code",
      "source": [
        "# Get data from the API, automatically name each dataset, get rid of any rows that contains \".\", and return a dataset dictionary\n",
        "def get_data(api_key, series_id, units, params):\n",
        "\n",
        "    params['units'] = units\n",
        "    list = []\n",
        "\n",
        "    for key, value in params.items():\n",
        "      list.append(f'{key}={value}')\n",
        "\n",
        "    url_params = '&'.join(list)\n",
        "\n",
        "    url = f'{Base_url}?series_id={series_id}&api_key={api_key}&file_type=json&{url_params}'\n",
        "\n",
        "    content = requests.get(url)\n",
        "\n",
        "    if content.status_code == 200:\n",
        "        data = content.json()\n",
        "        dataset_name = f'Dataset_{units}'\n",
        "\n",
        "        filtered_data = []\n",
        "        for observation in data.get('observations', []):\n",
        "            if observation['value'] != '.':\n",
        "                filtered_data.append(observation)\n",
        "\n",
        "        dataset = {'dataset_name': dataset_name, 'units': units, 'data': filtered_data}\n",
        "        return dataset\n",
        "    else:\n",
        "        print('Error!')\n",
        "        return None"
      ],
      "metadata": {
        "id": "ixZLEz5mMpdA"
      },
      "execution_count": null,
      "outputs": []
    },
    {
      "cell_type": "code",
      "source": [
        "# Get a list of datasets from the API\n",
        "def get_datasets_list(api_key, series_id, unit_list, params):\n",
        "    datasets = []\n",
        "\n",
        "    for units in unit_list:\n",
        "        data = get_data(api_key, series_id, units, params)\n",
        "        datasets.append(data)\n",
        "\n",
        "    return datasets"
      ],
      "metadata": {
        "id": "Aj5EiIs-RQ7Y"
      },
      "execution_count": null,
      "outputs": []
    },
    {
      "cell_type": "markdown",
      "source": [
        "**2.\tData Transformation:**\n"
      ],
      "metadata": {
        "id": "kWgKorbg7Vhy"
      }
    },
    {
      "cell_type": "markdown",
      "source": [
        "*FIrst dataframe:*"
      ],
      "metadata": {
        "id": "8A3deKDqGP58"
      }
    },
    {
      "cell_type": "code",
      "source": [
        "# Create a dataframe and extract only the date and value columns from each dataset dictionary\n",
        "def create_dataframe(datasets):\n",
        "    dataframes = []\n",
        "\n",
        "    for data in datasets:\n",
        "        df = pd.DataFrame(data['data'], columns=['date', 'value'])\n",
        "        df.columns = ['date', f'value_{data[\"units\"]}']\n",
        "        dataframes.append(df)\n",
        "\n",
        "    return dataframes"
      ],
      "metadata": {
        "id": "ozLZosRMRRex"
      },
      "execution_count": null,
      "outputs": []
    },
    {
      "cell_type": "code",
      "source": [
        "# Merge multiple dataframes using inner join\n",
        "def merge_dataframes(dataframes):\n",
        "    final_dataframe = dataframes[0]\n",
        "\n",
        "    for dataframe in dataframes[1:]:\n",
        "        final_dataframe = final_dataframe.merge(dataframe, on='date', how='inner')\n",
        "\n",
        "    return final_dataframe"
      ],
      "metadata": {
        "id": "b5LF02DpU7ze"
      },
      "execution_count": null,
      "outputs": []
    },
    {
      "cell_type": "code",
      "source": [
        "# Map unit abbreviations to column names\n",
        "def get_column_names(unit_list):\n",
        "    column_names = []\n",
        "\n",
        "    for unit in unit_list:\n",
        "        if unit == 'lin':\n",
        "            column_name = 'Loan_Amount_in_Billions'\n",
        "        elif unit == 'chg':\n",
        "            column_name = 'Loan_Amount_Change_from_Previous_Week_in_Billions'\n",
        "        elif unit == 'ch1':\n",
        "            column_name = 'Loan_Amount_Change_from_Previous_Year_in_Billions'\n",
        "        elif unit == 'pch':\n",
        "            column_name = 'Weekly_Percent_Change'\n",
        "        elif unit == 'pc1':\n",
        "            column_name = 'Yearly_Percent_Change'\n",
        "        elif unit == 'pca':\n",
        "            column_name = 'Compounded_Annual_Rate_of_Change'\n",
        "        elif unit == 'cch':\n",
        "            column_name = 'Continuously_Compounded_Rate_of_Change'\n",
        "        elif unit == 'cca':\n",
        "            column_name = 'Continuously_Compounded_Annual_Rate_of_Change'\n",
        "        elif unit == 'log':\n",
        "            column_name = 'Index'\n",
        "        column_names.append(column_name)\n",
        "\n",
        "    return column_names"
      ],
      "metadata": {
        "id": "lX5Dnp0Zj-Gi"
      },
      "execution_count": null,
      "outputs": []
    },
    {
      "cell_type": "code",
      "source": [
        "# Rename columns\n",
        "def rename_columns(dataframe, unit_list):\n",
        "    column_names = get_column_names(unit_list)\n",
        "    new_column_names = []\n",
        "    new_column_names.append('Date')\n",
        "\n",
        "    for col_name in column_names:\n",
        "      new_column_names.append(col_name)\n",
        "    dataframe.columns = new_column_names\n",
        "\n",
        "    return dataframe"
      ],
      "metadata": {
        "id": "BpHruSs8mA-R"
      },
      "execution_count": null,
      "outputs": []
    },
    {
      "cell_type": "code",
      "source": [
        "# Change the data types (Data = datetime, other values = float64)\n",
        "def set_data_types(dataframe):\n",
        "\n",
        "    for column in dataframe.columns:\n",
        "        if column == 'Date':\n",
        "          dataframe[column] = pd.to_datetime(dataframe['Date'])\n",
        "        else:\n",
        "            dataframe[column] = dataframe[column].astype('float64')\n",
        "\n",
        "    return dataframe"
      ],
      "metadata": {
        "id": "t9rrWUdefZGu"
      },
      "execution_count": null,
      "outputs": []
    },
    {
      "cell_type": "markdown",
      "source": [
        "*Second Dataframe:*"
      ],
      "metadata": {
        "id": "MtxjpuOUGV1N"
      }
    },
    {
      "cell_type": "code",
      "source": [
        "# Create a dataframe in which a selected column (one of the units) can be aggregated by years\n",
        "def transform_data(dataframe, column_name):\n",
        "\n",
        "    dataframe1 = dataframe.copy()\n",
        "    dataframe1['Year'] = dataframe1['Date'].dt.year\n",
        "\n",
        "    transformed_df = dataframe1.groupby('Year')[column_name].agg(['sum', 'mean', 'max', 'min']).reset_index()\n",
        "    transformed_df.rename(columns={\n",
        "        'sum': 'Total_Loan_Amount_in_billions',\n",
        "        'mean': 'Average_Loan_Amount_in_billions',\n",
        "        'max': 'Max_Loan_Amount_in_billions',\n",
        "        'min': 'Min_Loan_Amount_in_billions',\n",
        "    }, inplace=True)\n",
        "\n",
        "    return transformed_df"
      ],
      "metadata": {
        "id": "Tqg7CiIKG2uX"
      },
      "execution_count": null,
      "outputs": []
    },
    {
      "cell_type": "markdown",
      "source": [
        "3.\tData Loading:\n",
        "\n",
        "---"
      ],
      "metadata": {
        "id": "jC3NckIQ2IaI"
      }
    },
    {
      "cell_type": "code",
      "source": [
        "# Import all the necessary libraries to connect to BigQuery\n",
        "from google.cloud import bigquery\n",
        "from pandas_gbq import to_gbq, read_gbq"
      ],
      "metadata": {
        "id": "lk9Y8x9-m9Vc"
      },
      "execution_count": null,
      "outputs": []
    },
    {
      "cell_type": "code",
      "source": [
        "# Prepare schema\n",
        "def prepare_bigquery_schema(dataframe):\n",
        "    columns_and_types = []\n",
        "\n",
        "    for col in dataframe.columns:\n",
        "        if dataframe[col].dtype == 'float64':\n",
        "            columns_and_types.append({'name': col, 'type': 'FLOAT'})\n",
        "        elif dataframe[col].dtype == 'int64':\n",
        "            columns_and_types.append({'name': col, 'type': 'INTEGER'})\n",
        "        elif dataframe[col].dtype == 'datetime64[ns]':\n",
        "            columns_and_types.append({'name': col, 'type': 'DATE'})\n",
        "        else:\n",
        "            columns_and_types.append({'name': col, 'type': 'STRING'})\n",
        "\n",
        "    return columns_and_types"
      ],
      "metadata": {
        "id": "FQ27jKHP0mNJ"
      },
      "execution_count": null,
      "outputs": []
    },
    {
      "cell_type": "code",
      "source": [
        "# - Load data into BigQuery (https://pandas-gbq.readthedocs.io/en/latest/api.html#pandas_gbq.to_gbq)\n",
        "# - Check to see if the dataset is succefully loaded to BigQuery\n",
        "def load_data_to_bigquery(dataframe, project_id, dataset_id, table_name, if_exists='replace'):\n",
        "    full_table_name = f'{project_id}.{dataset_id}.{table_name}'\n",
        "\n",
        "    columns_and_types = prepare_bigquery_schema(dataframe)\n",
        "\n",
        "    bq_table = to_gbq(dataframe, full_table_name, project_id=project_id, if_exists=if_exists, table_schema=columns_and_types)\n",
        "\n",
        "    # Check to see if the data is loaded successfully\n",
        "    query = f'SELECT * FROM {full_table_name}'\n",
        "    loaded_data = read_gbq(query, project_id=project_id)\n",
        "\n",
        "    print(f'First few rows of loaded data from {dataset_id}.{table_name}:')\n",
        "    print(f'{loaded_data.head()}\\n \\n')"
      ],
      "metadata": {
        "id": "JnujVSKQz6iB"
      },
      "execution_count": null,
      "outputs": []
    },
    {
      "cell_type": "markdown",
      "source": [
        "# Run the pipeline\n",
        "\n",
        "---\n",
        "\n"
      ],
      "metadata": {
        "id": "z5mDuzlK94qA"
      }
    },
    {
      "cell_type": "markdown",
      "source": [
        "You can customize the data by adjusting parameters such as the number of data entries (limit), the start and end dates of observations, the order (ascending or descending) of the data, and the unit. Please refer to the documentation on github for more information about the parameters."
      ],
      "metadata": {
        "id": "j9K0KPaV8cdM"
      }
    },
    {
      "cell_type": "code",
      "source": [
        "# Feel free to customize the variables below\n",
        "api_key = 'af7cc74c15dc754573d689fbb7533dbe' # replace with your api key\n",
        "series_id = 'CREACBW027SBOG'\n",
        "Default_params = {\n",
        "    'limit': 100000,\n",
        "    'sort_order': 'asc',\n",
        "    'observation_start': '1774-01-04',\n",
        "    'observation_end': '9999-12-31'\n",
        "    }\n",
        "unit_list = ['lin','chg','ch1','pch','pc1','pca','cch','cca','log']\n",
        "agg_column_name = 'Loan_Amount_in_Billions' # pick which column to be aggregate\n",
        "\n",
        "# My BigQuery info\n",
        "project_id = 'numeric-datum-406721' # replace with your project_id\n",
        "dataset_id = 'ETLproject'\n",
        "table_name1 = 'real_estate_loan'\n",
        "table_name2 = 'real_estate_loan_by_years'"
      ],
      "metadata": {
        "id": "5MUr4cMt8hJ9"
      },
      "execution_count": null,
      "outputs": []
    },
    {
      "cell_type": "code",
      "source": [
        "# Call the function to get a list of datasets, create dataframes, merge them into a dataframe, and check the data types\n",
        "datasets_list = get_datasets_list(api_key, series_id, unit_list, Default_params)\n",
        "dataframes = create_dataframe(datasets_list)\n",
        "final_dataframe = merge_dataframes(dataframes)\n",
        "\n",
        "final_dataframe = rename_columns(final_dataframe, unit_list)\n",
        "print(f'Current Data Type:\\n{final_dataframe.dtypes}\\n {final_dataframe.shape}')"
      ],
      "metadata": {
        "colab": {
          "base_uri": "https://localhost:8080/"
        },
        "id": "geG3angl8lYd",
        "outputId": "cf1d9472-c4d0-4e21-a9e2-5b65ae08de4b"
      },
      "execution_count": null,
      "outputs": [
        {
          "output_type": "stream",
          "name": "stdout",
          "text": [
            "Current Data Type:\n",
            "Date                                                 object\n",
            "Loan_Amount_in_Billions                              object\n",
            "Loan_Amount_Change_from_Previous_Week_in_Billions    object\n",
            "Loan_Amount_Change_from_Previous_Year_in_Billions    object\n",
            "Weekly_Percent_Change                                object\n",
            "Yearly_Percent_Change                                object\n",
            "Compounded_Annual_Rate_of_Change                     object\n",
            "Continuously_Compounded_Rate_of_Change               object\n",
            "Continuously_Compounded_Annual_Rate_of_Change        object\n",
            "Index                                                object\n",
            "dtype: object\n",
            " (965, 10)\n"
          ]
        }
      ]
    },
    {
      "cell_type": "code",
      "source": [
        "# Call the function to change the data types\n",
        "real_estate_loan_df = set_data_types(final_dataframe)\n",
        "print(f'Updated dtypes:\\n{real_estate_loan_df.dtypes}\\n{real_estate_loan_df.head()}')"
      ],
      "metadata": {
        "colab": {
          "base_uri": "https://localhost:8080/"
        },
        "id": "GRfztt9T8oR5",
        "outputId": "a9c75b67-3243-4b17-950f-04a3782adfd4"
      },
      "execution_count": null,
      "outputs": [
        {
          "output_type": "stream",
          "name": "stdout",
          "text": [
            "Updated dtypes:\n",
            "Date                                                 datetime64[ns]\n",
            "Loan_Amount_in_Billions                                     float64\n",
            "Loan_Amount_Change_from_Previous_Week_in_Billions           float64\n",
            "Loan_Amount_Change_from_Previous_Year_in_Billions           float64\n",
            "Weekly_Percent_Change                                       float64\n",
            "Yearly_Percent_Change                                       float64\n",
            "Compounded_Annual_Rate_of_Change                            float64\n",
            "Continuously_Compounded_Rate_of_Change                      float64\n",
            "Continuously_Compounded_Annual_Rate_of_Change               float64\n",
            "Index                                                       float64\n",
            "dtype: object\n",
            "        Date  Loan_Amount_in_Billions  \\\n",
            "0 2005-06-01                1158.3338   \n",
            "1 2005-06-08                1161.1041   \n",
            "2 2005-06-15                1164.0374   \n",
            "3 2005-06-22                1168.6571   \n",
            "4 2005-06-29                1173.4074   \n",
            "\n",
            "   Loan_Amount_Change_from_Previous_Week_in_Billions  \\\n",
            "0                                             5.5155   \n",
            "1                                             2.7703   \n",
            "2                                             2.9333   \n",
            "3                                             4.6197   \n",
            "4                                             4.7503   \n",
            "\n",
            "   Loan_Amount_Change_from_Previous_Year_in_Billions  Weekly_Percent_Change  \\\n",
            "0                                           159.8739                0.47844   \n",
            "1                                           161.9619                0.23916   \n",
            "2                                           161.9132                0.25263   \n",
            "3                                           165.4618                0.39687   \n",
            "4                                           164.9717                0.40648   \n",
            "\n",
            "   Yearly_Percent_Change  Compounded_Annual_Rate_of_Change  \\\n",
            "0               16.01205                          28.17080   \n",
            "1               16.21010                          13.22604   \n",
            "2               16.15700                          14.01982   \n",
            "3               16.49348                          22.87081   \n",
            "4               16.35917                          23.48366   \n",
            "\n",
            "   Continuously_Compounded_Rate_of_Change  \\\n",
            "0                                 0.47730   \n",
            "1                                 0.23888   \n",
            "2                                 0.25231   \n",
            "3                                 0.39608   \n",
            "4                                 0.40565   \n",
            "\n",
            "   Continuously_Compounded_Annual_Rate_of_Change    Index  \n",
            "0                                       24.81936  7.05474  \n",
            "1                                       12.42160  7.05713  \n",
            "2                                       13.12021  7.05965  \n",
            "3                                       20.59633  7.06361  \n",
            "4                                       21.09386  7.06767  \n"
          ]
        }
      ]
    },
    {
      "cell_type": "code",
      "source": [
        "# Call the function to create a dataframe in which a selected column can be aggregated by years\n",
        "real_estate_loan_by_years_df = transform_data(real_estate_loan_df, agg_column_name)\n",
        "real_estate_loan_by_years_df.head()"
      ],
      "metadata": {
        "colab": {
          "base_uri": "https://localhost:8080/",
          "height": 204
        },
        "id": "8DoiwDLg892S",
        "outputId": "2f2c3cf5-f75d-444e-edc1-0f9e0fa64d72"
      },
      "execution_count": null,
      "outputs": [
        {
          "output_type": "execute_result",
          "data": {
            "text/plain": [
              "   Year  Total_Loan_Amount_in_billions  Average_Loan_Amount_in_billions  \\\n",
              "0  2005                     37701.1084                      1216.164787   \n",
              "1  2006                     71447.6760                      1373.993769   \n",
              "2  2007                     79275.0592                      1524.520369   \n",
              "3  2008                     88124.7487                      1662.731108   \n",
              "4  2009                     88130.1255                      1694.810106   \n",
              "\n",
              "   Max_Loan_Amount_in_billions  Min_Loan_Amount_in_billions  \n",
              "0                    1275.6285                    1158.3338  \n",
              "1                    1460.7168                    1278.7950  \n",
              "2                    1592.7756                    1466.0321  \n",
              "3                    1731.4749                    1592.0548  \n",
              "4                    1723.8507                    1634.4332  "
            ],
            "text/html": [
              "\n",
              "  <div id=\"df-0554ba87-e660-4f42-bbb4-9d39ecc165fc\" class=\"colab-df-container\">\n",
              "    <div>\n",
              "<style scoped>\n",
              "    .dataframe tbody tr th:only-of-type {\n",
              "        vertical-align: middle;\n",
              "    }\n",
              "\n",
              "    .dataframe tbody tr th {\n",
              "        vertical-align: top;\n",
              "    }\n",
              "\n",
              "    .dataframe thead th {\n",
              "        text-align: right;\n",
              "    }\n",
              "</style>\n",
              "<table border=\"1\" class=\"dataframe\">\n",
              "  <thead>\n",
              "    <tr style=\"text-align: right;\">\n",
              "      <th></th>\n",
              "      <th>Year</th>\n",
              "      <th>Total_Loan_Amount_in_billions</th>\n",
              "      <th>Average_Loan_Amount_in_billions</th>\n",
              "      <th>Max_Loan_Amount_in_billions</th>\n",
              "      <th>Min_Loan_Amount_in_billions</th>\n",
              "    </tr>\n",
              "  </thead>\n",
              "  <tbody>\n",
              "    <tr>\n",
              "      <th>0</th>\n",
              "      <td>2005</td>\n",
              "      <td>37701.1084</td>\n",
              "      <td>1216.164787</td>\n",
              "      <td>1275.6285</td>\n",
              "      <td>1158.3338</td>\n",
              "    </tr>\n",
              "    <tr>\n",
              "      <th>1</th>\n",
              "      <td>2006</td>\n",
              "      <td>71447.6760</td>\n",
              "      <td>1373.993769</td>\n",
              "      <td>1460.7168</td>\n",
              "      <td>1278.7950</td>\n",
              "    </tr>\n",
              "    <tr>\n",
              "      <th>2</th>\n",
              "      <td>2007</td>\n",
              "      <td>79275.0592</td>\n",
              "      <td>1524.520369</td>\n",
              "      <td>1592.7756</td>\n",
              "      <td>1466.0321</td>\n",
              "    </tr>\n",
              "    <tr>\n",
              "      <th>3</th>\n",
              "      <td>2008</td>\n",
              "      <td>88124.7487</td>\n",
              "      <td>1662.731108</td>\n",
              "      <td>1731.4749</td>\n",
              "      <td>1592.0548</td>\n",
              "    </tr>\n",
              "    <tr>\n",
              "      <th>4</th>\n",
              "      <td>2009</td>\n",
              "      <td>88130.1255</td>\n",
              "      <td>1694.810106</td>\n",
              "      <td>1723.8507</td>\n",
              "      <td>1634.4332</td>\n",
              "    </tr>\n",
              "  </tbody>\n",
              "</table>\n",
              "</div>\n",
              "    <div class=\"colab-df-buttons\">\n",
              "\n",
              "  <div class=\"colab-df-container\">\n",
              "    <button class=\"colab-df-convert\" onclick=\"convertToInteractive('df-0554ba87-e660-4f42-bbb4-9d39ecc165fc')\"\n",
              "            title=\"Convert this dataframe to an interactive table.\"\n",
              "            style=\"display:none;\">\n",
              "\n",
              "  <svg xmlns=\"http://www.w3.org/2000/svg\" height=\"24px\" viewBox=\"0 -960 960 960\">\n",
              "    <path d=\"M120-120v-720h720v720H120Zm60-500h600v-160H180v160Zm220 220h160v-160H400v160Zm0 220h160v-160H400v160ZM180-400h160v-160H180v160Zm440 0h160v-160H620v160ZM180-180h160v-160H180v160Zm440 0h160v-160H620v160Z\"/>\n",
              "  </svg>\n",
              "    </button>\n",
              "\n",
              "  <style>\n",
              "    .colab-df-container {\n",
              "      display:flex;\n",
              "      gap: 12px;\n",
              "    }\n",
              "\n",
              "    .colab-df-convert {\n",
              "      background-color: #E8F0FE;\n",
              "      border: none;\n",
              "      border-radius: 50%;\n",
              "      cursor: pointer;\n",
              "      display: none;\n",
              "      fill: #1967D2;\n",
              "      height: 32px;\n",
              "      padding: 0 0 0 0;\n",
              "      width: 32px;\n",
              "    }\n",
              "\n",
              "    .colab-df-convert:hover {\n",
              "      background-color: #E2EBFA;\n",
              "      box-shadow: 0px 1px 2px rgba(60, 64, 67, 0.3), 0px 1px 3px 1px rgba(60, 64, 67, 0.15);\n",
              "      fill: #174EA6;\n",
              "    }\n",
              "\n",
              "    .colab-df-buttons div {\n",
              "      margin-bottom: 4px;\n",
              "    }\n",
              "\n",
              "    [theme=dark] .colab-df-convert {\n",
              "      background-color: #3B4455;\n",
              "      fill: #D2E3FC;\n",
              "    }\n",
              "\n",
              "    [theme=dark] .colab-df-convert:hover {\n",
              "      background-color: #434B5C;\n",
              "      box-shadow: 0px 1px 3px 1px rgba(0, 0, 0, 0.15);\n",
              "      filter: drop-shadow(0px 1px 2px rgba(0, 0, 0, 0.3));\n",
              "      fill: #FFFFFF;\n",
              "    }\n",
              "  </style>\n",
              "\n",
              "    <script>\n",
              "      const buttonEl =\n",
              "        document.querySelector('#df-0554ba87-e660-4f42-bbb4-9d39ecc165fc button.colab-df-convert');\n",
              "      buttonEl.style.display =\n",
              "        google.colab.kernel.accessAllowed ? 'block' : 'none';\n",
              "\n",
              "      async function convertToInteractive(key) {\n",
              "        const element = document.querySelector('#df-0554ba87-e660-4f42-bbb4-9d39ecc165fc');\n",
              "        const dataTable =\n",
              "          await google.colab.kernel.invokeFunction('convertToInteractive',\n",
              "                                                    [key], {});\n",
              "        if (!dataTable) return;\n",
              "\n",
              "        const docLinkHtml = 'Like what you see? Visit the ' +\n",
              "          '<a target=\"_blank\" href=https://colab.research.google.com/notebooks/data_table.ipynb>data table notebook</a>'\n",
              "          + ' to learn more about interactive tables.';\n",
              "        element.innerHTML = '';\n",
              "        dataTable['output_type'] = 'display_data';\n",
              "        await google.colab.output.renderOutput(dataTable, element);\n",
              "        const docLink = document.createElement('div');\n",
              "        docLink.innerHTML = docLinkHtml;\n",
              "        element.appendChild(docLink);\n",
              "      }\n",
              "    </script>\n",
              "  </div>\n",
              "\n",
              "\n",
              "<div id=\"df-a8afe4f1-a76a-4d14-89dd-e5799f811295\">\n",
              "  <button class=\"colab-df-quickchart\" onclick=\"quickchart('df-a8afe4f1-a76a-4d14-89dd-e5799f811295')\"\n",
              "            title=\"Suggest charts\"\n",
              "            style=\"display:none;\">\n",
              "\n",
              "<svg xmlns=\"http://www.w3.org/2000/svg\" height=\"24px\"viewBox=\"0 0 24 24\"\n",
              "     width=\"24px\">\n",
              "    <g>\n",
              "        <path d=\"M19 3H5c-1.1 0-2 .9-2 2v14c0 1.1.9 2 2 2h14c1.1 0 2-.9 2-2V5c0-1.1-.9-2-2-2zM9 17H7v-7h2v7zm4 0h-2V7h2v10zm4 0h-2v-4h2v4z\"/>\n",
              "    </g>\n",
              "</svg>\n",
              "  </button>\n",
              "\n",
              "<style>\n",
              "  .colab-df-quickchart {\n",
              "      --bg-color: #E8F0FE;\n",
              "      --fill-color: #1967D2;\n",
              "      --hover-bg-color: #E2EBFA;\n",
              "      --hover-fill-color: #174EA6;\n",
              "      --disabled-fill-color: #AAA;\n",
              "      --disabled-bg-color: #DDD;\n",
              "  }\n",
              "\n",
              "  [theme=dark] .colab-df-quickchart {\n",
              "      --bg-color: #3B4455;\n",
              "      --fill-color: #D2E3FC;\n",
              "      --hover-bg-color: #434B5C;\n",
              "      --hover-fill-color: #FFFFFF;\n",
              "      --disabled-bg-color: #3B4455;\n",
              "      --disabled-fill-color: #666;\n",
              "  }\n",
              "\n",
              "  .colab-df-quickchart {\n",
              "    background-color: var(--bg-color);\n",
              "    border: none;\n",
              "    border-radius: 50%;\n",
              "    cursor: pointer;\n",
              "    display: none;\n",
              "    fill: var(--fill-color);\n",
              "    height: 32px;\n",
              "    padding: 0;\n",
              "    width: 32px;\n",
              "  }\n",
              "\n",
              "  .colab-df-quickchart:hover {\n",
              "    background-color: var(--hover-bg-color);\n",
              "    box-shadow: 0 1px 2px rgba(60, 64, 67, 0.3), 0 1px 3px 1px rgba(60, 64, 67, 0.15);\n",
              "    fill: var(--button-hover-fill-color);\n",
              "  }\n",
              "\n",
              "  .colab-df-quickchart-complete:disabled,\n",
              "  .colab-df-quickchart-complete:disabled:hover {\n",
              "    background-color: var(--disabled-bg-color);\n",
              "    fill: var(--disabled-fill-color);\n",
              "    box-shadow: none;\n",
              "  }\n",
              "\n",
              "  .colab-df-spinner {\n",
              "    border: 2px solid var(--fill-color);\n",
              "    border-color: transparent;\n",
              "    border-bottom-color: var(--fill-color);\n",
              "    animation:\n",
              "      spin 1s steps(1) infinite;\n",
              "  }\n",
              "\n",
              "  @keyframes spin {\n",
              "    0% {\n",
              "      border-color: transparent;\n",
              "      border-bottom-color: var(--fill-color);\n",
              "      border-left-color: var(--fill-color);\n",
              "    }\n",
              "    20% {\n",
              "      border-color: transparent;\n",
              "      border-left-color: var(--fill-color);\n",
              "      border-top-color: var(--fill-color);\n",
              "    }\n",
              "    30% {\n",
              "      border-color: transparent;\n",
              "      border-left-color: var(--fill-color);\n",
              "      border-top-color: var(--fill-color);\n",
              "      border-right-color: var(--fill-color);\n",
              "    }\n",
              "    40% {\n",
              "      border-color: transparent;\n",
              "      border-right-color: var(--fill-color);\n",
              "      border-top-color: var(--fill-color);\n",
              "    }\n",
              "    60% {\n",
              "      border-color: transparent;\n",
              "      border-right-color: var(--fill-color);\n",
              "    }\n",
              "    80% {\n",
              "      border-color: transparent;\n",
              "      border-right-color: var(--fill-color);\n",
              "      border-bottom-color: var(--fill-color);\n",
              "    }\n",
              "    90% {\n",
              "      border-color: transparent;\n",
              "      border-bottom-color: var(--fill-color);\n",
              "    }\n",
              "  }\n",
              "</style>\n",
              "\n",
              "  <script>\n",
              "    async function quickchart(key) {\n",
              "      const quickchartButtonEl =\n",
              "        document.querySelector('#' + key + ' button');\n",
              "      quickchartButtonEl.disabled = true;  // To prevent multiple clicks.\n",
              "      quickchartButtonEl.classList.add('colab-df-spinner');\n",
              "      try {\n",
              "        const charts = await google.colab.kernel.invokeFunction(\n",
              "            'suggestCharts', [key], {});\n",
              "      } catch (error) {\n",
              "        console.error('Error during call to suggestCharts:', error);\n",
              "      }\n",
              "      quickchartButtonEl.classList.remove('colab-df-spinner');\n",
              "      quickchartButtonEl.classList.add('colab-df-quickchart-complete');\n",
              "    }\n",
              "    (() => {\n",
              "      let quickchartButtonEl =\n",
              "        document.querySelector('#df-a8afe4f1-a76a-4d14-89dd-e5799f811295 button');\n",
              "      quickchartButtonEl.style.display =\n",
              "        google.colab.kernel.accessAllowed ? 'block' : 'none';\n",
              "    })();\n",
              "  </script>\n",
              "</div>\n",
              "    </div>\n",
              "  </div>\n"
            ]
          },
          "metadata": {},
          "execution_count": 17
        }
      ]
    },
    {
      "cell_type": "code",
      "source": [
        "# Call the function to load the dataset into BigQuery\n",
        "load_data_to_bigquery(real_estate_loan_df, project_id, dataset_id, table_name1)\n",
        "load_data_to_bigquery(real_estate_loan_by_years_df, project_id, dataset_id, table_name2)"
      ],
      "metadata": {
        "colab": {
          "base_uri": "https://localhost:8080/"
        },
        "id": "VMRrz4fV8qwL",
        "outputId": "b8b4fd81-3517-4b88-ab35-cad28873c6f4"
      },
      "execution_count": null,
      "outputs": [
        {
          "output_type": "stream",
          "name": "stderr",
          "text": [
            "100%|██████████| 1/1 [00:00<00:00, 5629.94it/s]\n"
          ]
        },
        {
          "output_type": "stream",
          "name": "stdout",
          "text": [
            "Downloading: 100%|\u001b[32m██████████\u001b[0m|\n",
            "First few rows of loaded data from ETLproject.real_estate_loan:\n",
            "         Date  Loan_Amount_in_Billions  \\\n",
            "0  2015-08-12                1714.8060   \n",
            "1  2015-06-10                1681.9342   \n",
            "2  2017-01-18                1981.0945   \n",
            "3  2020-01-01                2323.4216   \n",
            "4  2019-04-24                2215.8421   \n",
            "\n",
            "   Loan_Amount_Change_from_Previous_Week_in_Billions  \\\n",
            "0                                             3.2093   \n",
            "1                                             1.9234   \n",
            "2                                             4.0927   \n",
            "3                                             5.5228   \n",
            "4                                            -0.0245   \n",
            "\n",
            "   Loan_Amount_Change_from_Previous_Year_in_Billions  Weekly_Percent_Change  \\\n",
            "0                                           144.5170                0.18750   \n",
            "1                                           129.4670                0.11449   \n",
            "2                                           184.0837                0.20702   \n",
            "3                                           135.9316                0.23827   \n",
            "4                                            90.9074               -0.00111   \n",
            "\n",
            "   Yearly_Percent_Change  Compounded_Annual_Rate_of_Change  \\\n",
            "0                9.20321                          10.23127   \n",
            "1                8.33944                           6.13051   \n",
            "2               10.24388                          11.35318   \n",
            "3                6.21404                          13.17349   \n",
            "4                4.27813                          -0.05748   \n",
            "\n",
            "   Continuously_Compounded_Rate_of_Change  \\\n",
            "0                                 0.18733   \n",
            "1                                 0.11442   \n",
            "2                                 0.20680   \n",
            "3                                 0.23798   \n",
            "4                                -0.00111   \n",
            "\n",
            "   Continuously_Compounded_Annual_Rate_of_Change    Index  \n",
            "0                                        9.74104  7.44706  \n",
            "1                                        5.94994  7.42770  \n",
            "2                                       10.75368  7.59140  \n",
            "3                                       12.37517  7.75080  \n",
            "4                                       -0.05749  7.70339  \n",
            " \n",
            "\n"
          ]
        },
        {
          "output_type": "stream",
          "name": "stderr",
          "text": [
            "100%|██████████| 1/1 [00:00<00:00, 1640.32it/s]\n"
          ]
        },
        {
          "output_type": "stream",
          "name": "stdout",
          "text": [
            "Downloading: 100%|\u001b[32m██████████\u001b[0m|\n",
            "First few rows of loaded data from ETLproject.real_estate_loan_by_years:\n",
            "   Year  Total_Loan_Amount_in_billions  Average_Loan_Amount_in_billions  \\\n",
            "0  2005                     37701.1084                      1216.164787   \n",
            "1  2006                     71447.6760                      1373.993769   \n",
            "2  2007                     79275.0592                      1524.520369   \n",
            "3  2008                     88124.7487                      1662.731108   \n",
            "4  2009                     88130.1255                      1694.810106   \n",
            "\n",
            "   Max_Loan_Amount_in_billions  Min_Loan_Amount_in_billions  \n",
            "0                    1275.6285                    1158.3338  \n",
            "1                    1460.7168                    1278.7950  \n",
            "2                    1592.7756                    1466.0321  \n",
            "3                    1731.4749                    1592.0548  \n",
            "4                    1723.8507                    1634.4332  \n",
            " \n",
            "\n"
          ]
        }
      ]
    },
    {
      "cell_type": "markdown",
      "source": [
        "---\n",
        "\n",
        "\n",
        "The dataset has been successfully loaded into Google BigQuery. To delve deeper into analysis and exploration, SQL queries are available within Google BigQuery, and Looker Studio can be used for visualization to extract meaningful insights from the dataset."
      ],
      "metadata": {
        "id": "G2UlGmjpD1b0"
      }
    }
  ]
}